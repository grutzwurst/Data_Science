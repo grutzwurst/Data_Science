{
 "cells": [
  {
   "cell_type": "code",
   "execution_count": 30,
   "metadata": {},
   "outputs": [],
   "source": [
    "import pandas as pd\n",
    "import requests\n",
    "import io\n",
    "\n",
    "CSV_LINK = 'https://raw.githubusercontent.com/edlich/eternalrepo/master/DS-WAHLFACH/countries.csv'\n"
   ]
  },
  {
   "cell_type": "code",
   "execution_count": 31,
   "metadata": {},
   "outputs": [],
   "source": [
    "# 1) Daten direkt in dataframe laden\n",
    "\n",
    "df = pd.read_csv(CSV_LINK)"
   ]
  },
  {
   "cell_type": "code",
   "execution_count": 5,
   "metadata": {},
   "outputs": [
    {
     "data": {
      "text/html": [
       "<div>\n",
       "<style scoped>\n",
       "    .dataframe tbody tr th:only-of-type {\n",
       "        vertical-align: middle;\n",
       "    }\n",
       "\n",
       "    .dataframe tbody tr th {\n",
       "        vertical-align: top;\n",
       "    }\n",
       "\n",
       "    .dataframe thead th {\n",
       "        text-align: right;\n",
       "    }\n",
       "</style>\n",
       "<table border=\"1\" class=\"dataframe\">\n",
       "  <thead>\n",
       "    <tr style=\"text-align: right;\">\n",
       "      <th></th>\n",
       "      <th>People</th>\n",
       "      <th>Area</th>\n",
       "      <th>BIP</th>\n",
       "    </tr>\n",
       "  </thead>\n",
       "  <tbody>\n",
       "    <tr>\n",
       "      <th>count</th>\n",
       "      <td>5.000000e+00</td>\n",
       "      <td>5.000000e+00</td>\n",
       "      <td>5.00000</td>\n",
       "    </tr>\n",
       "    <tr>\n",
       "      <th>mean</th>\n",
       "      <td>1.027863e+08</td>\n",
       "      <td>3.907400e+06</td>\n",
       "      <td>2716.20000</td>\n",
       "    </tr>\n",
       "    <tr>\n",
       "      <th>std</th>\n",
       "      <td>6.759970e+07</td>\n",
       "      <td>4.904957e+06</td>\n",
       "      <td>1457.86083</td>\n",
       "    </tr>\n",
       "    <tr>\n",
       "      <th>min</th>\n",
       "      <td>3.650310e+07</td>\n",
       "      <td>3.013380e+05</td>\n",
       "      <td>1529.00000</td>\n",
       "    </tr>\n",
       "    <tr>\n",
       "      <th>25%</th>\n",
       "      <td>6.050172e+07</td>\n",
       "      <td>3.573850e+05</td>\n",
       "      <td>1798.00000</td>\n",
       "    </tr>\n",
       "    <tr>\n",
       "      <th>50%</th>\n",
       "      <td>8.252165e+07</td>\n",
       "      <td>3.778350e+05</td>\n",
       "      <td>1850.00000</td>\n",
       "    </tr>\n",
       "    <tr>\n",
       "      <th>75%</th>\n",
       "      <td>1.260450e+08</td>\n",
       "      <td>8.515770e+06</td>\n",
       "      <td>3466.00000</td>\n",
       "    </tr>\n",
       "    <tr>\n",
       "      <th>max</th>\n",
       "      <td>2.083600e+08</td>\n",
       "      <td>9.984670e+06</td>\n",
       "      <td>4938.00000</td>\n",
       "    </tr>\n",
       "  </tbody>\n",
       "</table>\n",
       "</div>"
      ],
      "text/plain": [
       "             People          Area         BIP\n",
       "count  5.000000e+00  5.000000e+00     5.00000\n",
       "mean   1.027863e+08  3.907400e+06  2716.20000\n",
       "std    6.759970e+07  4.904957e+06  1457.86083\n",
       "min    3.650310e+07  3.013380e+05  1529.00000\n",
       "25%    6.050172e+07  3.573850e+05  1798.00000\n",
       "50%    8.252165e+07  3.778350e+05  1850.00000\n",
       "75%    1.260450e+08  8.515770e+06  3466.00000\n",
       "max    2.083600e+08  9.984670e+06  4938.00000"
      ]
     },
     "execution_count": 5,
     "metadata": {},
     "output_type": "execute_result"
    }
   ],
   "source": [
    "# 2) Display some basic information as rows, columns and some basic statistical info.\n",
    "\n",
    "df.head(3)\n",
    "df.describe()"
   ]
  },
  {
   "cell_type": "code",
   "execution_count": 6,
   "metadata": {},
   "outputs": [
    {
     "data": {
      "text/html": [
       "<div>\n",
       "<style scoped>\n",
       "    .dataframe tbody tr th:only-of-type {\n",
       "        vertical-align: middle;\n",
       "    }\n",
       "\n",
       "    .dataframe tbody tr th {\n",
       "        vertical-align: top;\n",
       "    }\n",
       "\n",
       "    .dataframe thead th {\n",
       "        text-align: right;\n",
       "    }\n",
       "</style>\n",
       "<table border=\"1\" class=\"dataframe\">\n",
       "  <thead>\n",
       "    <tr style=\"text-align: right;\">\n",
       "      <th></th>\n",
       "      <th>Name</th>\n",
       "      <th>People</th>\n",
       "      <th>Area</th>\n",
       "      <th>BIP</th>\n",
       "      <th>Currency</th>\n",
       "    </tr>\n",
       "  </thead>\n",
       "  <tbody>\n",
       "    <tr>\n",
       "      <th>1</th>\n",
       "      <td>Japan</td>\n",
       "      <td>126045000</td>\n",
       "      <td>377835</td>\n",
       "      <td>4938</td>\n",
       "      <td>YEN</td>\n",
       "    </tr>\n",
       "    <tr>\n",
       "      <th>2</th>\n",
       "      <td>Canada</td>\n",
       "      <td>36503097</td>\n",
       "      <td>9984670</td>\n",
       "      <td>1529</td>\n",
       "      <td>CAD</td>\n",
       "    </tr>\n",
       "    <tr>\n",
       "      <th>3</th>\n",
       "      <td>Italy</td>\n",
       "      <td>60501718</td>\n",
       "      <td>301338</td>\n",
       "      <td>1850</td>\n",
       "      <td>EUR</td>\n",
       "    </tr>\n",
       "    <tr>\n",
       "      <th>4</th>\n",
       "      <td>Brazilia</td>\n",
       "      <td>208360000</td>\n",
       "      <td>8515770</td>\n",
       "      <td>1798</td>\n",
       "      <td>REAL</td>\n",
       "    </tr>\n",
       "  </tbody>\n",
       "</table>\n",
       "</div>"
      ],
      "text/plain": [
       "       Name     People     Area   BIP Currency\n",
       "1     Japan  126045000   377835  4938      YEN\n",
       "2    Canada   36503097  9984670  1529      CAD\n",
       "3     Italy   60501718   301338  1850      EUR\n",
       "4  Brazilia  208360000  8515770  1798     REAL"
      ]
     },
     "execution_count": 6,
     "metadata": {},
     "output_type": "execute_result"
    }
   ],
   "source": [
    "# 3) Show the last 4 rows of the data frame.\n",
    "\n",
    "df.tail(4)"
   ]
  },
  {
   "cell_type": "code",
   "execution_count": 7,
   "metadata": {},
   "outputs": [
    {
     "data": {
      "text/html": [
       "<div>\n",
       "<style scoped>\n",
       "    .dataframe tbody tr th:only-of-type {\n",
       "        vertical-align: middle;\n",
       "    }\n",
       "\n",
       "    .dataframe tbody tr th {\n",
       "        vertical-align: top;\n",
       "    }\n",
       "\n",
       "    .dataframe thead th {\n",
       "        text-align: right;\n",
       "    }\n",
       "</style>\n",
       "<table border=\"1\" class=\"dataframe\">\n",
       "  <thead>\n",
       "    <tr style=\"text-align: right;\">\n",
       "      <th></th>\n",
       "      <th>Name</th>\n",
       "      <th>People</th>\n",
       "      <th>Area</th>\n",
       "      <th>BIP</th>\n",
       "      <th>Currency</th>\n",
       "    </tr>\n",
       "  </thead>\n",
       "  <tbody>\n",
       "    <tr>\n",
       "      <th>0</th>\n",
       "      <td>Germany</td>\n",
       "      <td>82521653</td>\n",
       "      <td>357385</td>\n",
       "      <td>3466</td>\n",
       "      <td>EUR</td>\n",
       "    </tr>\n",
       "    <tr>\n",
       "      <th>3</th>\n",
       "      <td>Italy</td>\n",
       "      <td>60501718</td>\n",
       "      <td>301338</td>\n",
       "      <td>1850</td>\n",
       "      <td>EUR</td>\n",
       "    </tr>\n",
       "  </tbody>\n",
       "</table>\n",
       "</div>"
      ],
      "text/plain": [
       "      Name    People    Area   BIP Currency\n",
       "0  Germany  82521653  357385  3466      EUR\n",
       "3    Italy  60501718  301338  1850      EUR"
      ]
     },
     "execution_count": 7,
     "metadata": {},
     "output_type": "execute_result"
    }
   ],
   "source": [
    "# 4) Show all the row of countries who have the EURO\n",
    "\n",
    "df[df.Currency == 'EUR']"
   ]
  },
  {
   "cell_type": "code",
   "execution_count": 8,
   "metadata": {},
   "outputs": [],
   "source": [
    "# 5) Show only name and Currency in a new data frame\n",
    "\n",
    "df2 = df[['Name', 'Currency']]"
   ]
  },
  {
   "cell_type": "code",
   "execution_count": 9,
   "metadata": {},
   "outputs": [
    {
     "data": {
      "text/html": [
       "<div>\n",
       "<style scoped>\n",
       "    .dataframe tbody tr th:only-of-type {\n",
       "        vertical-align: middle;\n",
       "    }\n",
       "\n",
       "    .dataframe tbody tr th {\n",
       "        vertical-align: top;\n",
       "    }\n",
       "\n",
       "    .dataframe thead th {\n",
       "        text-align: right;\n",
       "    }\n",
       "</style>\n",
       "<table border=\"1\" class=\"dataframe\">\n",
       "  <thead>\n",
       "    <tr style=\"text-align: right;\">\n",
       "      <th></th>\n",
       "      <th>Name</th>\n",
       "      <th>People</th>\n",
       "      <th>Area</th>\n",
       "      <th>BIP</th>\n",
       "      <th>Currency</th>\n",
       "    </tr>\n",
       "  </thead>\n",
       "  <tbody>\n",
       "    <tr>\n",
       "      <th>0</th>\n",
       "      <td>Germany</td>\n",
       "      <td>82521653</td>\n",
       "      <td>357385</td>\n",
       "      <td>3466</td>\n",
       "      <td>EUR</td>\n",
       "    </tr>\n",
       "    <tr>\n",
       "      <th>1</th>\n",
       "      <td>Japan</td>\n",
       "      <td>126045000</td>\n",
       "      <td>377835</td>\n",
       "      <td>4938</td>\n",
       "      <td>YEN</td>\n",
       "    </tr>\n",
       "  </tbody>\n",
       "</table>\n",
       "</div>"
      ],
      "text/plain": [
       "      Name     People    Area   BIP Currency\n",
       "0  Germany   82521653  357385  3466      EUR\n",
       "1    Japan  126045000  377835  4938      YEN"
      ]
     },
     "execution_count": 9,
     "metadata": {},
     "output_type": "execute_result"
    }
   ],
   "source": [
    "# 6) Show only the rows/countries that have more than 2000 BIP (it is in Milliarden USD Bruttoinlandsprodukt)\n",
    "\n",
    "df[df.BIP > 2000]"
   ]
  },
  {
   "cell_type": "code",
   "execution_count": 10,
   "metadata": {},
   "outputs": [
    {
     "data": {
      "text/html": [
       "<div>\n",
       "<style scoped>\n",
       "    .dataframe tbody tr th:only-of-type {\n",
       "        vertical-align: middle;\n",
       "    }\n",
       "\n",
       "    .dataframe tbody tr th {\n",
       "        vertical-align: top;\n",
       "    }\n",
       "\n",
       "    .dataframe thead th {\n",
       "        text-align: right;\n",
       "    }\n",
       "</style>\n",
       "<table border=\"1\" class=\"dataframe\">\n",
       "  <thead>\n",
       "    <tr style=\"text-align: right;\">\n",
       "      <th></th>\n",
       "      <th>Name</th>\n",
       "      <th>People</th>\n",
       "      <th>Area</th>\n",
       "      <th>BIP</th>\n",
       "      <th>Currency</th>\n",
       "    </tr>\n",
       "  </thead>\n",
       "  <tbody>\n",
       "    <tr>\n",
       "      <th>0</th>\n",
       "      <td>Germany</td>\n",
       "      <td>82521653</td>\n",
       "      <td>357385</td>\n",
       "      <td>3466</td>\n",
       "      <td>EUR</td>\n",
       "    </tr>\n",
       "    <tr>\n",
       "      <th>1</th>\n",
       "      <td>Japan</td>\n",
       "      <td>126045000</td>\n",
       "      <td>377835</td>\n",
       "      <td>4938</td>\n",
       "      <td>YEN</td>\n",
       "    </tr>\n",
       "    <tr>\n",
       "      <th>3</th>\n",
       "      <td>Italy</td>\n",
       "      <td>60501718</td>\n",
       "      <td>301338</td>\n",
       "      <td>1850</td>\n",
       "      <td>EUR</td>\n",
       "    </tr>\n",
       "  </tbody>\n",
       "</table>\n",
       "</div>"
      ],
      "text/plain": [
       "      Name     People    Area   BIP Currency\n",
       "0  Germany   82521653  357385  3466      EUR\n",
       "1    Japan  126045000  377835  4938      YEN\n",
       "3    Italy   60501718  301338  1850      EUR"
      ]
     },
     "execution_count": 10,
     "metadata": {},
     "output_type": "execute_result"
    }
   ],
   "source": [
    "# 7) Select all countries where with inhabitants between 50 and 150 Mio\n",
    "df[(df.People > 50*10**6) & (df.People < 150*10**6)]"
   ]
  },
  {
   "cell_type": "code",
   "execution_count": 11,
   "metadata": {},
   "outputs": [],
   "source": [
    "# 8) Change BIP to Bip\n",
    "\n",
    "df.rename(columns={'BIP': 'Bip'}, inplace=True)"
   ]
  },
  {
   "cell_type": "code",
   "execution_count": 12,
   "metadata": {},
   "outputs": [
    {
     "name": "stdout",
     "output_type": "stream",
     "text": [
      "13581\n"
     ]
    }
   ],
   "source": [
    "# 9) Calculate the Bip sum\n",
    "\n",
    "bip_sum = df.Bip.sum()\n",
    "print(bip_sum)"
   ]
  },
  {
   "cell_type": "code",
   "execution_count": 13,
   "metadata": {},
   "outputs": [
    {
     "name": "stdout",
     "output_type": "stream",
     "text": [
      "102786293.6\n"
     ]
    }
   ],
   "source": [
    "# 10) Calculate the average people of all countries\n",
    "\n",
    "people_mean = df.People.mean(axis=0)\n",
    "print(people_mean)"
   ]
  },
  {
   "cell_type": "code",
   "execution_count": 32,
   "metadata": {},
   "outputs": [
    {
     "data": {
      "text/html": [
       "<div>\n",
       "<style scoped>\n",
       "    .dataframe tbody tr th:only-of-type {\n",
       "        vertical-align: middle;\n",
       "    }\n",
       "\n",
       "    .dataframe tbody tr th {\n",
       "        vertical-align: top;\n",
       "    }\n",
       "\n",
       "    .dataframe thead th {\n",
       "        text-align: right;\n",
       "    }\n",
       "</style>\n",
       "<table border=\"1\" class=\"dataframe\">\n",
       "  <thead>\n",
       "    <tr style=\"text-align: right;\">\n",
       "      <th></th>\n",
       "      <th>Name</th>\n",
       "      <th>People</th>\n",
       "      <th>Area</th>\n",
       "      <th>BIP</th>\n",
       "      <th>Currency</th>\n",
       "    </tr>\n",
       "  </thead>\n",
       "  <tbody>\n",
       "    <tr>\n",
       "      <th>4</th>\n",
       "      <td>Brazilia</td>\n",
       "      <td>208360000</td>\n",
       "      <td>8515770</td>\n",
       "      <td>1798</td>\n",
       "      <td>REAL</td>\n",
       "    </tr>\n",
       "    <tr>\n",
       "      <th>2</th>\n",
       "      <td>Canada</td>\n",
       "      <td>36503097</td>\n",
       "      <td>9984670</td>\n",
       "      <td>1529</td>\n",
       "      <td>CAD</td>\n",
       "    </tr>\n",
       "    <tr>\n",
       "      <th>0</th>\n",
       "      <td>Germany</td>\n",
       "      <td>82521653</td>\n",
       "      <td>357385</td>\n",
       "      <td>3466</td>\n",
       "      <td>EUR</td>\n",
       "    </tr>\n",
       "    <tr>\n",
       "      <th>3</th>\n",
       "      <td>Italy</td>\n",
       "      <td>60501718</td>\n",
       "      <td>301338</td>\n",
       "      <td>1850</td>\n",
       "      <td>EUR</td>\n",
       "    </tr>\n",
       "    <tr>\n",
       "      <th>1</th>\n",
       "      <td>Japan</td>\n",
       "      <td>126045000</td>\n",
       "      <td>377835</td>\n",
       "      <td>4938</td>\n",
       "      <td>YEN</td>\n",
       "    </tr>\n",
       "  </tbody>\n",
       "</table>\n",
       "</div>"
      ],
      "text/plain": [
       "       Name     People     Area   BIP Currency\n",
       "4  Brazilia  208360000  8515770  1798     REAL\n",
       "2    Canada   36503097  9984670  1529      CAD\n",
       "0   Germany   82521653   357385  3466      EUR\n",
       "3     Italy   60501718   301338  1850      EUR\n",
       "1     Japan  126045000   377835  4938      YEN"
      ]
     },
     "execution_count": 32,
     "metadata": {},
     "output_type": "execute_result"
    }
   ],
   "source": [
    "# 11) Sort by name alphabetically\n",
    "\n",
    "df.sort_values(by='Name', inplace=True)\n",
    "df"
   ]
  },
  {
   "cell_type": "code",
   "execution_count": 33,
   "metadata": {},
   "outputs": [],
   "source": [
    "# 12) Create a new data frame from the original where the area is changed as follows: \n",
    "# all countries with > 1000000 get BIG and <= 1000000 get SMALL in the cell replaced!\n",
    "\n",
    "\n",
    "# df.loc[df.Area > 1000000, 'Area'] = 'BIG'\n",
    "#df.loc[df.Area <= 1000000, 'Area'] = 'SMALL'"
   ]
  },
  {
   "cell_type": "code",
   "execution_count": 40,
   "metadata": {},
   "outputs": [
    {
     "data": {
      "text/html": [
       "<div>\n",
       "<style scoped>\n",
       "    .dataframe tbody tr th:only-of-type {\n",
       "        vertical-align: middle;\n",
       "    }\n",
       "\n",
       "    .dataframe tbody tr th {\n",
       "        vertical-align: top;\n",
       "    }\n",
       "\n",
       "    .dataframe thead th {\n",
       "        text-align: right;\n",
       "    }\n",
       "</style>\n",
       "<table border=\"1\" class=\"dataframe\">\n",
       "  <thead>\n",
       "    <tr style=\"text-align: right;\">\n",
       "      <th></th>\n",
       "      <th>Name</th>\n",
       "      <th>People</th>\n",
       "      <th>Area</th>\n",
       "      <th>BIP</th>\n",
       "      <th>Currency</th>\n",
       "    </tr>\n",
       "  </thead>\n",
       "  <tbody>\n",
       "    <tr>\n",
       "      <th>4</th>\n",
       "      <td>Brazilia</td>\n",
       "      <td>208360000</td>\n",
       "      <td>BIG</td>\n",
       "      <td>1798</td>\n",
       "      <td>REAL</td>\n",
       "    </tr>\n",
       "    <tr>\n",
       "      <th>2</th>\n",
       "      <td>Canada</td>\n",
       "      <td>36503097</td>\n",
       "      <td>BIG</td>\n",
       "      <td>1529</td>\n",
       "      <td>CAD</td>\n",
       "    </tr>\n",
       "    <tr>\n",
       "      <th>0</th>\n",
       "      <td>Germany</td>\n",
       "      <td>82521653</td>\n",
       "      <td>SMALL</td>\n",
       "      <td>3466</td>\n",
       "      <td>EUR</td>\n",
       "    </tr>\n",
       "    <tr>\n",
       "      <th>3</th>\n",
       "      <td>Italy</td>\n",
       "      <td>60501718</td>\n",
       "      <td>SMALL</td>\n",
       "      <td>1850</td>\n",
       "      <td>EUR</td>\n",
       "    </tr>\n",
       "    <tr>\n",
       "      <th>1</th>\n",
       "      <td>Japan</td>\n",
       "      <td>126045000</td>\n",
       "      <td>SMALL</td>\n",
       "      <td>4938</td>\n",
       "      <td>YEN</td>\n",
       "    </tr>\n",
       "  </tbody>\n",
       "</table>\n",
       "</div>"
      ],
      "text/plain": [
       "       Name     People   Area   BIP Currency\n",
       "4  Brazilia  208360000    BIG  1798     REAL\n",
       "2    Canada   36503097    BIG  1529      CAD\n",
       "0   Germany   82521653  SMALL  3466      EUR\n",
       "3     Italy   60501718  SMALL  1850      EUR\n",
       "1     Japan  126045000  SMALL  4938      YEN"
      ]
     },
     "execution_count": 40,
     "metadata": {},
     "output_type": "execute_result"
    }
   ],
   "source": [
    "df3 = df.copy()\n",
    "df3.Area = df3.Area.apply(lambda area: 'BIG' if area > 1000000 else 'SMALL')\n",
    "df3"
   ]
  },
  {
   "cell_type": "code",
   "execution_count": null,
   "metadata": {},
   "outputs": [],
   "source": []
  }
 ],
 "metadata": {
  "kernelspec": {
   "display_name": "Python 3",
   "language": "python",
   "name": "python3"
  },
  "language_info": {
   "codemirror_mode": {
    "name": "ipython",
    "version": 3
   },
   "file_extension": ".py",
   "mimetype": "text/x-python",
   "name": "python",
   "nbconvert_exporter": "python",
   "pygments_lexer": "ipython3",
   "version": "3.6.8"
  }
 },
 "nbformat": 4,
 "nbformat_minor": 2
}
